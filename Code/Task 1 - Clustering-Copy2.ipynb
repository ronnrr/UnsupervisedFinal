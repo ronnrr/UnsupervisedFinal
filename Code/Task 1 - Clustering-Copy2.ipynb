{
 "cells": [
  {
   "cell_type": "code",
   "execution_count": 1,
   "id": "1738018b",
   "metadata": {},
   "outputs": [
    {
     "data": {
      "text/plain": [
       "0            10000\n",
       "1            10001\n",
       "2            10002\n",
       "3            10003\n",
       "4            10004\n",
       "            ...   \n",
       "2458280    2468280\n",
       "2458281    2468281\n",
       "2458282    2468282\n",
       "2458283    2468283\n",
       "2458284    2468284\n",
       "Name: caseid, Length: 2458285, dtype: int64"
      ]
     },
     "execution_count": 1,
     "metadata": {},
     "output_type": "execute_result"
    }
   ],
   "source": [
    "\"\"\"\n",
    "Exercise 1 - preprocessing. Removing the unnecessary columns and saving them for later plus loading dataframe\n",
    "\"\"\"\n",
    "import pandas as pd\n",
    "\n",
    "baseDf = pd.read_csv('USCensus1990.data.csv')\n",
    "externalVariablesArr = [baseDf.pop('dAge'), baseDf.pop('dHispanic'), baseDf.pop('iYearwrk'), baseDf.pop('iSex')]\n",
    "baseDf.pop('caseid')"
   ]
  },
  {
   "cell_type": "code",
   "execution_count": 18,
   "id": "4fa83b48",
   "metadata": {},
   "outputs": [],
   "source": [
    "from sklearn.neighbors import NearestNeighbors # importing the library\n",
    "import numpy as np\n",
    "import pandas as pd\n",
    "from sklearn import datasets\n",
    "import dunnsklearn\n",
    "from sklearn.metrics import davies_bouldin_score\n",
    "from sklearn.cluster import DBSCAN\n",
    "from sklearn import metrics\n",
    "from sklearn.preprocessing import OneHotEncoder  \n",
    "from sklearn.datasets import make_blobs\n",
    "from sklearn.preprocessing import StandardScaler\n",
    "from sklearn.cluster import KMeans\n",
    "import matplotlib.pyplot as plt\n",
    "size = 24000\n",
    "encoder = OneHotEncoder()\n",
    "testDf = encoder.fit_transform(baseDf.sample(size)).toarray()\n",
    "neighb = NearestNeighbors(n_neighbors=128) # 2 * dimension\n",
    "nbrs=neighb.fit(testDf) \n",
    "distances,indices=nbrs.kneighbors(testDf)\n"
   ]
  },
  {
   "cell_type": "code",
   "execution_count": 21,
   "id": "87b6ebed",
   "metadata": {},
   "outputs": [
    {
     "data": {
      "image/png": "[encoded data removed]",
      "text/plain": [
       "<Figure size 432x288 with 1 Axes>"
      ]
     },
     "metadata": {
      "needs_background": "light"
     },
     "output_type": "display_data"
    }
   ],
   "source": [
    "arr = []\n",
    "for i in distances:\n",
    "    arr.append(i.mean())\n",
    "arr.sort()\n",
    "plt.title(\"Average Distance Per 128 Neighbours\")\n",
    "plt.xlabel(\"Point Index\")\n",
    "plt.ylabel(\"Distance\")\n",
    "plt.plot(arr, color = \"black\", label=\"Average Distance\")\n",
    "plt.savefig('DBscan Eps Calculations.svg', format='svg', dpi=1200) # seems e=4"
   ]
  },
  {
   "cell_type": "code",
   "execution_count": 23,
   "id": "1b00fff9",
   "metadata": {
    "scrolled": false
   },
   "outputs": [
    {
     "ename": "IndexError",
     "evalue": "list index out of range",
     "output_type": "error",
     "traceback": [
      "\u001b[1;31m---------------------------------------------------------------------------\u001b[0m",
      "\u001b[1;31mIndexError\u001b[0m                                Traceback (most recent call last)",
      "\u001b[1;32mC:\\Users\\RONZAM~1\\AppData\\Local\\Temp/ipykernel_25432/3607541199.py\u001b[0m in \u001b[0;36m<module>\u001b[1;34m\u001b[0m\n\u001b[0;32m     42\u001b[0m     \u001b[0maverageScore\u001b[0m \u001b[1;33m=\u001b[0m \u001b[1;36m0\u001b[0m\u001b[1;33m\u001b[0m\u001b[1;33m\u001b[0m\u001b[0m\n\u001b[0;32m     43\u001b[0m     \u001b[1;32mfor\u001b[0m \u001b[0mj\u001b[0m \u001b[1;32min\u001b[0m \u001b[0mrange\u001b[0m\u001b[1;33m(\u001b[0m\u001b[1;36m0\u001b[0m\u001b[1;33m,\u001b[0m \u001b[1;36m9\u001b[0m\u001b[1;33m)\u001b[0m\u001b[1;33m:\u001b[0m\u001b[1;33m\u001b[0m\u001b[1;33m\u001b[0m\u001b[0m\n\u001b[1;32m---> 44\u001b[1;33m         \u001b[0maverageScore\u001b[0m \u001b[1;33m+=\u001b[0m \u001b[0mdbscanSilhouetteArr\u001b[0m\u001b[1;33m[\u001b[0m\u001b[0mj\u001b[0m\u001b[1;33m]\u001b[0m\u001b[1;33m[\u001b[0m\u001b[0mi\u001b[0m\u001b[1;33m]\u001b[0m\u001b[1;33m\u001b[0m\u001b[1;33m\u001b[0m\u001b[0m\n\u001b[0m\u001b[0;32m     45\u001b[0m     \u001b[0maveragedDbscanSilhouetteArr\u001b[0m\u001b[1;33m.\u001b[0m\u001b[0mappend\u001b[0m\u001b[1;33m(\u001b[0m\u001b[0maverageScore\u001b[0m\u001b[1;33m)\u001b[0m\u001b[1;33m\u001b[0m\u001b[1;33m\u001b[0m\u001b[0m\n\u001b[0;32m     46\u001b[0m \u001b[1;32mfor\u001b[0m \u001b[0mi\u001b[0m \u001b[1;32min\u001b[0m \u001b[0mrange\u001b[0m\u001b[1;33m(\u001b[0m\u001b[1;36m0\u001b[0m\u001b[1;33m,\u001b[0m \u001b[1;36m13\u001b[0m\u001b[1;33m)\u001b[0m\u001b[1;33m:\u001b[0m\u001b[1;33m\u001b[0m\u001b[1;33m\u001b[0m\u001b[0m\n",
      "\u001b[1;31mIndexError\u001b[0m: list index out of range"
     ]
    }
   ],
   "source": [
    "\"\"\"\n",
    "Exercise 2 - Clustering the remaining columns and finding out which clustering method is king.\n",
    "Before that, because data is categorial, we will use one hot encoding to make it continual.\n",
    "For this exercise we will use gmm, kmeans, dbscan.\n",
    "Because the database is massive, I'm unavailable often, and I have very little processing power, I've choosen to only use those 3 and calculate everything using a sample.\n",
    "To determine which clustering dimension is best, we will use silleuhet score and david to determine the davies_bouldin_score.\n",
    "Then we will compare the algorithms\n",
    "\"\"\"\n",
    "import numpy as np\n",
    "import pandas as pd\n",
    "from sklearn import datasets\n",
    "import dunnsklearn\n",
    "from sklearn.metrics import davies_bouldin_score\n",
    "from sklearn.cluster import DBSCAN\n",
    "from sklearn import metrics\n",
    "from sklearn.preprocessing import OneHotEncoder  \n",
    "from sklearn.datasets import make_blobs\n",
    "from sklearn.preprocessing import StandardScaler\n",
    "from sklearn.cluster import KMeans\n",
    "import matplotlib.pyplot as plt\n",
    "dbscanSilhouetteArr = []\n",
    "dbscanDaviesBouldinArr = []\n",
    "size = 24000\n",
    "for i in range(0, 10):\n",
    "    encoder = OneHotEncoder()\n",
    "    testDf = encoder.fit_transform(baseDf.sample(size)).toarray()\n",
    "    silhouetteArr = []\n",
    "    daviesBouldinArr = []\n",
    "    for j in range(0, 1):\n",
    "        dbscan = DBSCAN(eps = 4, min_samples = 128)\n",
    "        dbscan.fit(testDf)\n",
    "        labels = dbscan.labels_\n",
    "        daviesBouldinArr.append(davies_bouldin_score(testDf, labels))\n",
    "        silhouetteArr.append(metrics.silhouette_score(testDf, labels))\n",
    "    dbscanSilhouetteArr.append(silhouetteArr)\n",
    "    dbscanDaviesBouldinArr.append(daviesBouldinArr)\n",
    "\n",
    "indexArr = [2]\n",
    "averagedDbscanSilhouetteArr = []\n",
    "averagedDbscanDaviesBouldinArr = []\n",
    "for i in range(0, 1):\n",
    "    averageScore = 0\n",
    "    for j in range(0, 9):\n",
    "        averageScore += dbscanSilhouetteArr[j][i]\n",
    "    averagedDbscanSilhouetteArr.append(averageScore)\n",
    "for i in range(0, 1):\n",
    "    averageScore = 0\n",
    "    for j in range(0, 9):\n",
    "        averageScore += dbscanDaviesBouldinArr[j][i]\n",
    "    averagedDbscanDaviesBouldinArr.append(averageScore)\n",
    "fig, ax = plt.subplots()\n",
    "plt.title(\"Silhouette Score Average DBscan\")\n",
    "plt.xlabel(\"Cluster count\")\n",
    "plt.ylabel(\"Score\")\n",
    "ax.plot(indexArr, averagedDbscanSilhouetteArr, color = \"black\", label=\"Silhouette Values\")\n",
    "plt.savefig('Silhouette Score Average DBscan.svg', format='svg', dpi=1200)\n",
    "fig, ax = plt.subplots()\n",
    "plt.title(\"DaviesBouldin Score Average DBscan\")\n",
    "plt.xlabel(\"Cluster count\")\n",
    "plt.ylabel(\"Score\")\n",
    "ax.plot(indexArr, averagedDbscanDaviesBouldinArr, color = \"black\", label=\"DaviesBouldin Values\")\n",
    "plt.savefig('DaviesBouldin Score Average DBScan.svg', format='svg', dpi=1200)"
   ]
  },
  {
   "cell_type": "code",
   "execution_count": 48,
   "id": "8acae3b7",
   "metadata": {},
   "outputs": [
    {
     "name": "stdout",
     "output_type": "stream",
     "text": [
      "DBScan average silhouette score is:  0.06478806470603828 Kmeans average silhouette score is:  0.1075198459901878\n",
      "DBScan average daviesBouldin score is:  2.0684653055918063 Kmeans average daviesBouldin score is:  1.038766146546504\n"
     ]
    }
   ],
   "source": [
    "\"\"\"\n",
    "Part 2 - comparing algorithms.\n",
    "We will take each algorithm with the given parameters we found and compare sillhouette scores between their clustering.\n",
    "\"\"\"\n",
    "encoder = OneHotEncoder()\n",
    "testDf = encoder.fit_transform(baseDf.sample(size)).toarray()\n",
    "silhouetteArr = []\n",
    "daviesBouldinArr = []\n",
    "for j in range(0, 10):\n",
    "    dbscan = DBSCAN(eps = 4, min_samples = 128)\n",
    "    dbscan.fit(testDf)\n",
    "    firstLabels = dbscan.labels_\n",
    "    daviesBouldinArr.append(davies_bouldin_score(testDf, labels))\n",
    "    silhouetteArr.append(metrics.silhouette_score(testDf, labels))\n",
    "    kmeans = KMeans(n_clusters=4)\n",
    "    kmeans.fit(testDf)\n",
    "    secondLabels = kmeans.labels_\n",
    "    daviesBouldinArr.append([davies_bouldin_score(testDf, firstLabels), davies_bouldin_score(testDf, secondLabels)])\n",
    "    silhouetteArr.append([metrics.silhouette_score(testDf, firstLabels), metrics.silhouette_score(testDf, secondLabels)])\n",
    "dbScanAvg=0\n",
    "kmeansAvg=0\n",
    "for i in silhouetteArr[1::2]:\n",
    "    dbScanAvg+=float(i[0])\n",
    "    kmeansAvg+=float(i[1])\n",
    "print('DBScan average silhouette score is: ', dbScanAvg/len(silhouetteArr), 'Kmeans average silhouette score is: ', kmeansAvg/len(silhouetteArr))\n",
    "dbScanAvg=0\n",
    "kmeansAvg=0\n",
    "for i in daviesBouldinArr[1::2]:\n",
    "    dbScanAvg+=float(i[0])\n",
    "    kmeansAvg+=float(i[1])\n",
    "print('DBScan average daviesBouldin score is: ', dbScanAvg/len(daviesBouldinArr), 'Kmeans average daviesBouldin score is: ', kmeansAvg/len(daviesBouldinArr))\n"
   ]
  },
  {
   "cell_type": "code",
   "execution_count": 49,
   "id": "72f34441",
   "metadata": {},
   "outputs": [
    {
     "name": "stdout",
     "output_type": "stream",
     "text": [
      "DBScan average silhouette score is:  0.06465005452522213 GMM average silhouette score is:  0.11361869071056527\n",
      "DBScan average daviesBouldin score is:  2.083818711230379 GMM average daviesBouldin score is:  0.9403486957627182\n"
     ]
    }
   ],
   "source": [
    "from sklearn.mixture import GaussianMixture\n",
    "\n",
    "encoder = OneHotEncoder()\n",
    "testDf = encoder.fit_transform(baseDf.sample(size)).toarray()\n",
    "silhouetteArr = []\n",
    "daviesBouldinArr = []\n",
    "for j in range(0, 10):\n",
    "    dbscan = DBSCAN(eps = 4, min_samples = 128)\n",
    "    dbscan.fit(testDf)\n",
    "    firstLabels = dbscan.labels_\n",
    "    daviesBouldinArr.append(davies_bouldin_score(testDf, labels))\n",
    "    silhouetteArr.append(metrics.silhouette_score(testDf, labels))\n",
    "    GMM = GaussianMixture(n_components=3)\n",
    "    GMM.fit(testDf)\n",
    "    secondLabels = GMM.predict(testDf)\n",
    "    daviesBouldinArr.append([davies_bouldin_score(testDf, firstLabels), davies_bouldin_score(testDf, secondLabels)])\n",
    "    silhouetteArr.append([metrics.silhouette_score(testDf, firstLabels), metrics.silhouette_score(testDf, secondLabels)])\n",
    "dbScanAvg=0\n",
    "kmeansAvg=0\n",
    "for i in silhouetteArr[1::2]:\n",
    "    dbScanAvg+=float(i[0])\n",
    "    kmeansAvg+=float(i[1])\n",
    "print('DBScan average silhouette score is: ', dbScanAvg/len(silhouetteArr), 'GMM average silhouette score is: ', kmeansAvg/len(silhouetteArr))\n",
    "dbScanAvg=0\n",
    "kmeansAvg=0\n",
    "for i in daviesBouldinArr[1::2]:\n",
    "    dbScanAvg+=float(i[0])\n",
    "    kmeansAvg+=float(i[1])\n",
    "print('DBScan average daviesBouldin score is: ', dbScanAvg/len(daviesBouldinArr), 'GMM average daviesBouldin score is: ', kmeansAvg/len(daviesBouldinArr))\n"
   ]
  },
  {
   "cell_type": "code",
   "execution_count": 47,
   "id": "5653e962",
   "metadata": {},
   "outputs": [
    {
     "name": "stdout",
     "output_type": "stream",
     "text": [
      "Estimated number of clusters: 2\n",
      "Estimated number of noise points: 5610\n"
     ]
    }
   ],
   "source": [
    "n_clusters_ = len(set(labels)) - (1 if -1 in labels else 0)\n",
    "n_noise_ = list(labels).count(-1)\n",
    "\n",
    "print(\"Estimated number of clusters: %d\" % n_clusters_)\n",
    "print(\"Estimated number of noise points: %d\" % n_noise_)"
   ]
  },
  {
   "cell_type": "code",
   "execution_count": null,
   "id": "f7615f12",
   "metadata": {},
   "outputs": [],
   "source": []
  }
 ],
 "metadata": {
  "kernelspec": {
   "display_name": "Python 3",
   "language": "python",
   "name": "python3"
  },
  "language_info": {
   "codemirror_mode": {
    "name": "ipython",
    "version": 3
   },
   "file_extension": ".py",
   "mimetype": "text/x-python",
   "name": "python",
   "nbconvert_exporter": "python",
   "pygments_lexer": "ipython3",
   "version": "3.9.1"
  }
 },
 "nbformat": 4,
 "nbformat_minor": 5
}
